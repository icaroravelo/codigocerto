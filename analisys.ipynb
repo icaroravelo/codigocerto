{
 "cells": [
  {
   "cell_type": "markdown",
   "metadata": {},
   "source": [
    "# Configurações Iniciais"
   ]
  },
  {
   "cell_type": "code",
   "execution_count": 29,
   "metadata": {},
   "outputs": [
    {
     "name": "stdout",
     "output_type": "stream",
     "text": [
      "Requirement already satisfied: pandas in c:\\users\\regul\\desktop\\codigocerto\\venv\\lib\\site-packages (2.2.2)\n",
      "Requirement already satisfied: numpy>=1.23.2 in c:\\users\\regul\\desktop\\codigocerto\\venv\\lib\\site-packages (from pandas) (2.0.0)\n",
      "Requirement already satisfied: python-dateutil>=2.8.2 in c:\\users\\regul\\desktop\\codigocerto\\venv\\lib\\site-packages (from pandas) (2.9.0.post0)\n",
      "Requirement already satisfied: pytz>=2020.1 in c:\\users\\regul\\desktop\\codigocerto\\venv\\lib\\site-packages (from pandas) (2024.1)\n",
      "Requirement already satisfied: tzdata>=2022.7 in c:\\users\\regul\\desktop\\codigocerto\\venv\\lib\\site-packages (from pandas) (2024.1)\n",
      "Requirement already satisfied: six>=1.5 in c:\\users\\regul\\desktop\\codigocerto\\venv\\lib\\site-packages (from python-dateutil>=2.8.2->pandas) (1.16.0)\n",
      "Note: you may need to restart the kernel to use updated packages.\n",
      "Requirement already satisfied: matplotlib in c:\\users\\regul\\desktop\\codigocerto\\venv\\lib\\site-packages (3.9.0)\n",
      "Requirement already satisfied: contourpy>=1.0.1 in c:\\users\\regul\\desktop\\codigocerto\\venv\\lib\\site-packages (from matplotlib) (1.2.1)\n",
      "Requirement already satisfied: cycler>=0.10 in c:\\users\\regul\\desktop\\codigocerto\\venv\\lib\\site-packages (from matplotlib) (0.12.1)\n",
      "Requirement already satisfied: fonttools>=4.22.0 in c:\\users\\regul\\desktop\\codigocerto\\venv\\lib\\site-packages (from matplotlib) (4.53.0)\n",
      "Requirement already satisfied: kiwisolver>=1.3.1 in c:\\users\\regul\\desktop\\codigocerto\\venv\\lib\\site-packages (from matplotlib) (1.4.5)\n",
      "Requirement already satisfied: numpy>=1.23 in c:\\users\\regul\\desktop\\codigocerto\\venv\\lib\\site-packages (from matplotlib) (2.0.0)\n",
      "Requirement already satisfied: packaging>=20.0 in c:\\users\\regul\\desktop\\codigocerto\\venv\\lib\\site-packages (from matplotlib) (24.1)\n",
      "Requirement already satisfied: pillow>=8 in c:\\users\\regul\\desktop\\codigocerto\\venv\\lib\\site-packages (from matplotlib) (10.3.0)\n",
      "Requirement already satisfied: pyparsing>=2.3.1 in c:\\users\\regul\\desktop\\codigocerto\\venv\\lib\\site-packages (from matplotlib) (3.1.2)\n",
      "Requirement already satisfied: python-dateutil>=2.7 in c:\\users\\regul\\desktop\\codigocerto\\venv\\lib\\site-packages (from matplotlib) (2.9.0.post0)\n",
      "Requirement already satisfied: six>=1.5 in c:\\users\\regul\\desktop\\codigocerto\\venv\\lib\\site-packages (from python-dateutil>=2.7->matplotlib) (1.16.0)\n",
      "Note: you may need to restart the kernel to use updated packages.\n",
      "Requirement already satisfied: seaborn in c:\\users\\regul\\desktop\\codigocerto\\venv\\lib\\site-packages (0.13.2)\n",
      "Requirement already satisfied: numpy!=1.24.0,>=1.20 in c:\\users\\regul\\desktop\\codigocerto\\venv\\lib\\site-packages (from seaborn) (2.0.0)\n",
      "Requirement already satisfied: pandas>=1.2 in c:\\users\\regul\\desktop\\codigocerto\\venv\\lib\\site-packages (from seaborn) (2.2.2)\n",
      "Requirement already satisfied: matplotlib!=3.6.1,>=3.4 in c:\\users\\regul\\desktop\\codigocerto\\venv\\lib\\site-packages (from seaborn) (3.9.0)\n",
      "Requirement already satisfied: contourpy>=1.0.1 in c:\\users\\regul\\desktop\\codigocerto\\venv\\lib\\site-packages (from matplotlib!=3.6.1,>=3.4->seaborn) (1.2.1)\n",
      "Requirement already satisfied: cycler>=0.10 in c:\\users\\regul\\desktop\\codigocerto\\venv\\lib\\site-packages (from matplotlib!=3.6.1,>=3.4->seaborn) (0.12.1)\n",
      "Requirement already satisfied: fonttools>=4.22.0 in c:\\users\\regul\\desktop\\codigocerto\\venv\\lib\\site-packages (from matplotlib!=3.6.1,>=3.4->seaborn) (4.53.0)\n",
      "Requirement already satisfied: kiwisolver>=1.3.1 in c:\\users\\regul\\desktop\\codigocerto\\venv\\lib\\site-packages (from matplotlib!=3.6.1,>=3.4->seaborn) (1.4.5)\n",
      "Requirement already satisfied: packaging>=20.0 in c:\\users\\regul\\desktop\\codigocerto\\venv\\lib\\site-packages (from matplotlib!=3.6.1,>=3.4->seaborn) (24.1)\n",
      "Requirement already satisfied: pillow>=8 in c:\\users\\regul\\desktop\\codigocerto\\venv\\lib\\site-packages (from matplotlib!=3.6.1,>=3.4->seaborn) (10.3.0)\n",
      "Requirement already satisfied: pyparsing>=2.3.1 in c:\\users\\regul\\desktop\\codigocerto\\venv\\lib\\site-packages (from matplotlib!=3.6.1,>=3.4->seaborn) (3.1.2)\n",
      "Requirement already satisfied: python-dateutil>=2.7 in c:\\users\\regul\\desktop\\codigocerto\\venv\\lib\\site-packages (from matplotlib!=3.6.1,>=3.4->seaborn) (2.9.0.post0)\n",
      "Requirement already satisfied: pytz>=2020.1 in c:\\users\\regul\\desktop\\codigocerto\\venv\\lib\\site-packages (from pandas>=1.2->seaborn) (2024.1)\n",
      "Requirement already satisfied: tzdata>=2022.7 in c:\\users\\regul\\desktop\\codigocerto\\venv\\lib\\site-packages (from pandas>=1.2->seaborn) (2024.1)\n",
      "Requirement already satisfied: six>=1.5 in c:\\users\\regul\\desktop\\codigocerto\\venv\\lib\\site-packages (from python-dateutil>=2.7->matplotlib!=3.6.1,>=3.4->seaborn) (1.16.0)\n",
      "Note: you may need to restart the kernel to use updated packages.\n"
     ]
    }
   ],
   "source": [
    "# Instalar bibliotecas necessárias\n",
    "%pip install pandas\n",
    "%pip install matplotlib\n",
    "%pip install seaborn"
   ]
  },
  {
   "cell_type": "code",
   "execution_count": 30,
   "metadata": {},
   "outputs": [],
   "source": [
    "# Importar bibliotecas necessárias\n",
    "import pandas as pd\n",
    "import matplotlib.pyplot as plt\n",
    "import seaborn as sns"
   ]
  },
  {
   "cell_type": "code",
   "execution_count": 31,
   "metadata": {},
   "outputs": [
    {
     "data": {
      "text/html": [
       "<div>\n",
       "<style scoped>\n",
       "    .dataframe tbody tr th:only-of-type {\n",
       "        vertical-align: middle;\n",
       "    }\n",
       "\n",
       "    .dataframe tbody tr th {\n",
       "        vertical-align: top;\n",
       "    }\n",
       "\n",
       "    .dataframe thead th {\n",
       "        text-align: right;\n",
       "    }\n",
       "</style>\n",
       "<table border=\"1\" class=\"dataframe\">\n",
       "  <thead>\n",
       "    <tr style=\"text-align: right;\">\n",
       "      <th></th>\n",
       "      <th>ID</th>\n",
       "      <th>Nome do Curso</th>\n",
       "      <th>Quantidade de Vendas</th>\n",
       "      <th>Preço Unitário</th>\n",
       "      <th>Data</th>\n",
       "    </tr>\n",
       "  </thead>\n",
       "  <tbody>\n",
       "    <tr>\n",
       "      <th>0</th>\n",
       "      <td>1</td>\n",
       "      <td>Introdução à Programação em Python</td>\n",
       "      <td>50</td>\n",
       "      <td>39.9</td>\n",
       "      <td>2023-01-01</td>\n",
       "    </tr>\n",
       "    <tr>\n",
       "      <th>1</th>\n",
       "      <td>2</td>\n",
       "      <td>Desenvolvimento Web com HTML e CSS</td>\n",
       "      <td>30</td>\n",
       "      <td>59.9</td>\n",
       "      <td>2023-01-02</td>\n",
       "    </tr>\n",
       "    <tr>\n",
       "      <th>2</th>\n",
       "      <td>3</td>\n",
       "      <td>JavaScript Avançado: Frameworks e Bibliotecas</td>\n",
       "      <td>20</td>\n",
       "      <td>79.9</td>\n",
       "      <td>2023-01-03</td>\n",
       "    </tr>\n",
       "    <tr>\n",
       "      <th>3</th>\n",
       "      <td>4</td>\n",
       "      <td>Introdução ao Machine Learning</td>\n",
       "      <td>15</td>\n",
       "      <td>99.9</td>\n",
       "      <td>2023-01-04</td>\n",
       "    </tr>\n",
       "    <tr>\n",
       "      <th>4</th>\n",
       "      <td>5</td>\n",
       "      <td>Desenvolvimento Mobile com React Native</td>\n",
       "      <td>25</td>\n",
       "      <td>69.9</td>\n",
       "      <td>2023-01-05</td>\n",
       "    </tr>\n",
       "  </tbody>\n",
       "</table>\n",
       "</div>"
      ],
      "text/plain": [
       "   ID                                  Nome do Curso  Quantidade de Vendas  \\\n",
       "0   1             Introdução à Programação em Python                    50   \n",
       "1   2             Desenvolvimento Web com HTML e CSS                    30   \n",
       "2   3  JavaScript Avançado: Frameworks e Bibliotecas                    20   \n",
       "3   4                 Introdução ao Machine Learning                    15   \n",
       "4   5        Desenvolvimento Mobile com React Native                    25   \n",
       "\n",
       "   Preço Unitário        Data  \n",
       "0            39.9  2023-01-01  \n",
       "1            59.9  2023-01-02  \n",
       "2            79.9  2023-01-03  \n",
       "3            99.9  2023-01-04  \n",
       "4            69.9  2023-01-05  "
      ]
     },
     "execution_count": 31,
     "metadata": {},
     "output_type": "execute_result"
    }
   ],
   "source": [
    "# Carregamento de dados e exportação do arquivo csv\n",
    "file_path = 'dados.txt'\n",
    "\n",
    "df = pd.read_csv(file_path)\n",
    "\n",
    "# Consultar as primeiras linhas para checar se o arquivo foi carregado de forma correta\n",
    "df.head() # Exibe as primeiras linhas"
   ]
  },
  {
   "cell_type": "code",
   "execution_count": 32,
   "metadata": {},
   "outputs": [
    {
     "data": {
      "text/html": [
       "<div>\n",
       "<style scoped>\n",
       "    .dataframe tbody tr th:only-of-type {\n",
       "        vertical-align: middle;\n",
       "    }\n",
       "\n",
       "    .dataframe tbody tr th {\n",
       "        vertical-align: top;\n",
       "    }\n",
       "\n",
       "    .dataframe thead th {\n",
       "        text-align: right;\n",
       "    }\n",
       "</style>\n",
       "<table border=\"1\" class=\"dataframe\">\n",
       "  <thead>\n",
       "    <tr style=\"text-align: right;\">\n",
       "      <th></th>\n",
       "      <th>ID</th>\n",
       "      <th>Nome do Curso</th>\n",
       "      <th>Quantidade de Vendas</th>\n",
       "      <th>Preço Unitário</th>\n",
       "      <th>Data</th>\n",
       "    </tr>\n",
       "  </thead>\n",
       "  <tbody>\n",
       "    <tr>\n",
       "      <th>20</th>\n",
       "      <td>21</td>\n",
       "      <td>Desenvolvimento Web com HTML e CSS</td>\n",
       "      <td>25</td>\n",
       "      <td>59.9</td>\n",
       "      <td>2023-01-21</td>\n",
       "    </tr>\n",
       "    <tr>\n",
       "      <th>21</th>\n",
       "      <td>22</td>\n",
       "      <td>JavaScript Avançado: Frameworks e Bibliotecas</td>\n",
       "      <td>18</td>\n",
       "      <td>79.9</td>\n",
       "      <td>2023-01-22</td>\n",
       "    </tr>\n",
       "    <tr>\n",
       "      <th>22</th>\n",
       "      <td>23</td>\n",
       "      <td>Introdução ao Machine Learning</td>\n",
       "      <td>12</td>\n",
       "      <td>99.9</td>\n",
       "      <td>2023-01-23</td>\n",
       "    </tr>\n",
       "    <tr>\n",
       "      <th>23</th>\n",
       "      <td>24</td>\n",
       "      <td>Desenvolvimento Mobile com React Native</td>\n",
       "      <td>20</td>\n",
       "      <td>69.9</td>\n",
       "      <td>2023-01-24</td>\n",
       "    </tr>\n",
       "    <tr>\n",
       "      <th>24</th>\n",
       "      <td>25</td>\n",
       "      <td>Arquitetura de Microserviços</td>\n",
       "      <td>10</td>\n",
       "      <td>89.9</td>\n",
       "      <td>2023-01-25</td>\n",
       "    </tr>\n",
       "  </tbody>\n",
       "</table>\n",
       "</div>"
      ],
      "text/plain": [
       "    ID                                  Nome do Curso  Quantidade de Vendas  \\\n",
       "20  21             Desenvolvimento Web com HTML e CSS                    25   \n",
       "21  22  JavaScript Avançado: Frameworks e Bibliotecas                    18   \n",
       "22  23                 Introdução ao Machine Learning                    12   \n",
       "23  24        Desenvolvimento Mobile com React Native                    20   \n",
       "24  25                   Arquitetura de Microserviços                    10   \n",
       "\n",
       "    Preço Unitário        Data  \n",
       "20            59.9  2023-01-21  \n",
       "21            79.9  2023-01-22  \n",
       "22            99.9  2023-01-23  \n",
       "23            69.9  2023-01-24  \n",
       "24            89.9  2023-01-25  "
      ]
     },
     "execution_count": 32,
     "metadata": {},
     "output_type": "execute_result"
    }
   ],
   "source": [
    "df.tail() # Exibe as últimas linhas"
   ]
  },
  {
   "cell_type": "markdown",
   "metadata": {},
   "source": [
    "# Exploração de Dados"
   ]
  },
  {
   "cell_type": "code",
   "execution_count": 33,
   "metadata": {},
   "outputs": [
    {
     "data": {
      "text/plain": [
       "(25, 5)"
      ]
     },
     "execution_count": 33,
     "metadata": {},
     "output_type": "execute_result"
    }
   ],
   "source": [
    "# Retorna as dimensões do DataFrame (linhas e colunas)\n",
    "\n",
    "df.shape "
   ]
  },
  {
   "cell_type": "code",
   "execution_count": 34,
   "metadata": {},
   "outputs": [
    {
     "data": {
      "text/plain": [
       "<bound method DataFrame.info of     ID                                  Nome do Curso  Quantidade de Vendas  \\\n",
       "0    1             Introdução à Programação em Python                    50   \n",
       "1    2             Desenvolvimento Web com HTML e CSS                    30   \n",
       "2    3  JavaScript Avançado: Frameworks e Bibliotecas                    20   \n",
       "3    4                 Introdução ao Machine Learning                    15   \n",
       "4    5        Desenvolvimento Mobile com React Native                    25   \n",
       "5    6                   Arquitetura de Microserviços                    12   \n",
       "6    7                     Banco de Dados SQL e NoSQL                    18   \n",
       "7    8           Segurança da Informação: Fundamentos                    10   \n",
       "8    9                        Cloud Computing com AWS                    22   \n",
       "9   10          DevOps: Integração e Entrega Contínua                     8   \n",
       "10  11             Desenvolvimento Web com HTML e CSS                    20   \n",
       "11  12  JavaScript Avançado: Frameworks e Bibliotecas                    15   \n",
       "12  13                 Introdução ao Machine Learning                    10   \n",
       "13  14        Desenvolvimento Mobile com React Native                    18   \n",
       "14  15                   Arquitetura de Microserviços                     8   \n",
       "15  16                     Banco de Dados SQL e NoSQL                    12   \n",
       "16  17           Segurança da Informação: Fundamentos                     5   \n",
       "17  18                        Cloud Computing com AWS                    15   \n",
       "18  19          DevOps: Integração e Entrega Contínua                     6   \n",
       "19  20             Introdução à Programação em Python                    45   \n",
       "20  21             Desenvolvimento Web com HTML e CSS                    25   \n",
       "21  22  JavaScript Avançado: Frameworks e Bibliotecas                    18   \n",
       "22  23                 Introdução ao Machine Learning                    12   \n",
       "23  24        Desenvolvimento Mobile com React Native                    20   \n",
       "24  25                   Arquitetura de Microserviços                    10   \n",
       "\n",
       "    Preço Unitário        Data  \n",
       "0             39.9  2023-01-01  \n",
       "1             59.9  2023-01-02  \n",
       "2             79.9  2023-01-03  \n",
       "3             99.9  2023-01-04  \n",
       "4             69.9  2023-01-05  \n",
       "5             89.9  2023-01-06  \n",
       "6             79.9  2023-01-07  \n",
       "7            109.9  2023-01-08  \n",
       "8             99.9  2023-01-09  \n",
       "9            119.9  2023-01-10  \n",
       "10            59.9  2023-01-11  \n",
       "11            79.9  2023-01-12  \n",
       "12            99.9  2023-01-13  \n",
       "13            69.9  2023-01-14  \n",
       "14            89.9  2023-01-15  \n",
       "15            79.9  2023-01-16  \n",
       "16           109.9  2023-01-17  \n",
       "17            99.9  2023-01-18  \n",
       "18           119.9  2023-01-19  \n",
       "19            39.9  2023-01-20  \n",
       "20            59.9  2023-01-21  \n",
       "21            79.9  2023-01-22  \n",
       "22            99.9  2023-01-23  \n",
       "23            69.9  2023-01-24  \n",
       "24            89.9  2023-01-25  >"
      ]
     },
     "execution_count": 34,
     "metadata": {},
     "output_type": "execute_result"
    }
   ],
   "source": [
    "# Retorna as informações do DataFrame\n",
    "\n",
    "df.info "
   ]
  },
  {
   "cell_type": "code",
   "execution_count": 35,
   "metadata": {},
   "outputs": [
    {
     "data": {
      "text/plain": [
       "ID                        int64\n",
       "Nome do Curso            object\n",
       "Quantidade de Vendas      int64\n",
       "Preço Unitário          float64\n",
       "Data                     object\n",
       "dtype: object"
      ]
     },
     "execution_count": 35,
     "metadata": {},
     "output_type": "execute_result"
    }
   ],
   "source": [
    "# Retorna os tipos dos dados do DataFrame\n",
    "\n",
    "df.dtypes"
   ]
  },
  {
   "cell_type": "code",
   "execution_count": 36,
   "metadata": {},
   "outputs": [
    {
     "data": {
      "text/html": [
       "<div>\n",
       "<style scoped>\n",
       "    .dataframe tbody tr th:only-of-type {\n",
       "        vertical-align: middle;\n",
       "    }\n",
       "\n",
       "    .dataframe tbody tr th {\n",
       "        vertical-align: top;\n",
       "    }\n",
       "\n",
       "    .dataframe thead th {\n",
       "        text-align: right;\n",
       "    }\n",
       "</style>\n",
       "<table border=\"1\" class=\"dataframe\">\n",
       "  <thead>\n",
       "    <tr style=\"text-align: right;\">\n",
       "      <th></th>\n",
       "      <th>ID</th>\n",
       "      <th>Nome do Curso</th>\n",
       "      <th>Quantidade de Vendas</th>\n",
       "      <th>Preço Unitário</th>\n",
       "      <th>Data</th>\n",
       "    </tr>\n",
       "  </thead>\n",
       "  <tbody>\n",
       "    <tr>\n",
       "      <th>0</th>\n",
       "      <td>False</td>\n",
       "      <td>False</td>\n",
       "      <td>False</td>\n",
       "      <td>False</td>\n",
       "      <td>False</td>\n",
       "    </tr>\n",
       "    <tr>\n",
       "      <th>1</th>\n",
       "      <td>False</td>\n",
       "      <td>False</td>\n",
       "      <td>False</td>\n",
       "      <td>False</td>\n",
       "      <td>False</td>\n",
       "    </tr>\n",
       "    <tr>\n",
       "      <th>2</th>\n",
       "      <td>False</td>\n",
       "      <td>False</td>\n",
       "      <td>False</td>\n",
       "      <td>False</td>\n",
       "      <td>False</td>\n",
       "    </tr>\n",
       "    <tr>\n",
       "      <th>3</th>\n",
       "      <td>False</td>\n",
       "      <td>False</td>\n",
       "      <td>False</td>\n",
       "      <td>False</td>\n",
       "      <td>False</td>\n",
       "    </tr>\n",
       "    <tr>\n",
       "      <th>4</th>\n",
       "      <td>False</td>\n",
       "      <td>False</td>\n",
       "      <td>False</td>\n",
       "      <td>False</td>\n",
       "      <td>False</td>\n",
       "    </tr>\n",
       "    <tr>\n",
       "      <th>5</th>\n",
       "      <td>False</td>\n",
       "      <td>False</td>\n",
       "      <td>False</td>\n",
       "      <td>False</td>\n",
       "      <td>False</td>\n",
       "    </tr>\n",
       "    <tr>\n",
       "      <th>6</th>\n",
       "      <td>False</td>\n",
       "      <td>False</td>\n",
       "      <td>False</td>\n",
       "      <td>False</td>\n",
       "      <td>False</td>\n",
       "    </tr>\n",
       "    <tr>\n",
       "      <th>7</th>\n",
       "      <td>False</td>\n",
       "      <td>False</td>\n",
       "      <td>False</td>\n",
       "      <td>False</td>\n",
       "      <td>False</td>\n",
       "    </tr>\n",
       "    <tr>\n",
       "      <th>8</th>\n",
       "      <td>False</td>\n",
       "      <td>False</td>\n",
       "      <td>False</td>\n",
       "      <td>False</td>\n",
       "      <td>False</td>\n",
       "    </tr>\n",
       "    <tr>\n",
       "      <th>9</th>\n",
       "      <td>False</td>\n",
       "      <td>False</td>\n",
       "      <td>False</td>\n",
       "      <td>False</td>\n",
       "      <td>False</td>\n",
       "    </tr>\n",
       "    <tr>\n",
       "      <th>10</th>\n",
       "      <td>False</td>\n",
       "      <td>False</td>\n",
       "      <td>False</td>\n",
       "      <td>False</td>\n",
       "      <td>False</td>\n",
       "    </tr>\n",
       "    <tr>\n",
       "      <th>11</th>\n",
       "      <td>False</td>\n",
       "      <td>False</td>\n",
       "      <td>False</td>\n",
       "      <td>False</td>\n",
       "      <td>False</td>\n",
       "    </tr>\n",
       "    <tr>\n",
       "      <th>12</th>\n",
       "      <td>False</td>\n",
       "      <td>False</td>\n",
       "      <td>False</td>\n",
       "      <td>False</td>\n",
       "      <td>False</td>\n",
       "    </tr>\n",
       "    <tr>\n",
       "      <th>13</th>\n",
       "      <td>False</td>\n",
       "      <td>False</td>\n",
       "      <td>False</td>\n",
       "      <td>False</td>\n",
       "      <td>False</td>\n",
       "    </tr>\n",
       "    <tr>\n",
       "      <th>14</th>\n",
       "      <td>False</td>\n",
       "      <td>False</td>\n",
       "      <td>False</td>\n",
       "      <td>False</td>\n",
       "      <td>False</td>\n",
       "    </tr>\n",
       "    <tr>\n",
       "      <th>15</th>\n",
       "      <td>False</td>\n",
       "      <td>False</td>\n",
       "      <td>False</td>\n",
       "      <td>False</td>\n",
       "      <td>False</td>\n",
       "    </tr>\n",
       "    <tr>\n",
       "      <th>16</th>\n",
       "      <td>False</td>\n",
       "      <td>False</td>\n",
       "      <td>False</td>\n",
       "      <td>False</td>\n",
       "      <td>False</td>\n",
       "    </tr>\n",
       "    <tr>\n",
       "      <th>17</th>\n",
       "      <td>False</td>\n",
       "      <td>False</td>\n",
       "      <td>False</td>\n",
       "      <td>False</td>\n",
       "      <td>False</td>\n",
       "    </tr>\n",
       "    <tr>\n",
       "      <th>18</th>\n",
       "      <td>False</td>\n",
       "      <td>False</td>\n",
       "      <td>False</td>\n",
       "      <td>False</td>\n",
       "      <td>False</td>\n",
       "    </tr>\n",
       "    <tr>\n",
       "      <th>19</th>\n",
       "      <td>False</td>\n",
       "      <td>False</td>\n",
       "      <td>False</td>\n",
       "      <td>False</td>\n",
       "      <td>False</td>\n",
       "    </tr>\n",
       "    <tr>\n",
       "      <th>20</th>\n",
       "      <td>False</td>\n",
       "      <td>False</td>\n",
       "      <td>False</td>\n",
       "      <td>False</td>\n",
       "      <td>False</td>\n",
       "    </tr>\n",
       "    <tr>\n",
       "      <th>21</th>\n",
       "      <td>False</td>\n",
       "      <td>False</td>\n",
       "      <td>False</td>\n",
       "      <td>False</td>\n",
       "      <td>False</td>\n",
       "    </tr>\n",
       "    <tr>\n",
       "      <th>22</th>\n",
       "      <td>False</td>\n",
       "      <td>False</td>\n",
       "      <td>False</td>\n",
       "      <td>False</td>\n",
       "      <td>False</td>\n",
       "    </tr>\n",
       "    <tr>\n",
       "      <th>23</th>\n",
       "      <td>False</td>\n",
       "      <td>False</td>\n",
       "      <td>False</td>\n",
       "      <td>False</td>\n",
       "      <td>False</td>\n",
       "    </tr>\n",
       "    <tr>\n",
       "      <th>24</th>\n",
       "      <td>False</td>\n",
       "      <td>False</td>\n",
       "      <td>False</td>\n",
       "      <td>False</td>\n",
       "      <td>False</td>\n",
       "    </tr>\n",
       "  </tbody>\n",
       "</table>\n",
       "</div>"
      ],
      "text/plain": [
       "       ID  Nome do Curso  Quantidade de Vendas  Preço Unitário   Data\n",
       "0   False          False                 False           False  False\n",
       "1   False          False                 False           False  False\n",
       "2   False          False                 False           False  False\n",
       "3   False          False                 False           False  False\n",
       "4   False          False                 False           False  False\n",
       "5   False          False                 False           False  False\n",
       "6   False          False                 False           False  False\n",
       "7   False          False                 False           False  False\n",
       "8   False          False                 False           False  False\n",
       "9   False          False                 False           False  False\n",
       "10  False          False                 False           False  False\n",
       "11  False          False                 False           False  False\n",
       "12  False          False                 False           False  False\n",
       "13  False          False                 False           False  False\n",
       "14  False          False                 False           False  False\n",
       "15  False          False                 False           False  False\n",
       "16  False          False                 False           False  False\n",
       "17  False          False                 False           False  False\n",
       "18  False          False                 False           False  False\n",
       "19  False          False                 False           False  False\n",
       "20  False          False                 False           False  False\n",
       "21  False          False                 False           False  False\n",
       "22  False          False                 False           False  False\n",
       "23  False          False                 False           False  False\n",
       "24  False          False                 False           False  False"
      ]
     },
     "execution_count": 36,
     "metadata": {},
     "output_type": "execute_result"
    }
   ],
   "source": [
    "# Checar se existems valores ausentes\n",
    "\n",
    "df.isnull()\n",
    "\n",
    "# Não existem valores ausentes"
   ]
  },
  {
   "cell_type": "markdown",
   "metadata": {},
   "source": [
    "# Estatísticas Descritivas"
   ]
  },
  {
   "cell_type": "code",
   "execution_count": 37,
   "metadata": {},
   "outputs": [
    {
     "data": {
      "text/html": [
       "<div>\n",
       "<style scoped>\n",
       "    .dataframe tbody tr th:only-of-type {\n",
       "        vertical-align: middle;\n",
       "    }\n",
       "\n",
       "    .dataframe tbody tr th {\n",
       "        vertical-align: top;\n",
       "    }\n",
       "\n",
       "    .dataframe thead th {\n",
       "        text-align: right;\n",
       "    }\n",
       "</style>\n",
       "<table border=\"1\" class=\"dataframe\">\n",
       "  <thead>\n",
       "    <tr style=\"text-align: right;\">\n",
       "      <th></th>\n",
       "      <th>ID</th>\n",
       "      <th>Quantidade de Vendas</th>\n",
       "      <th>Preço Unitário</th>\n",
       "    </tr>\n",
       "  </thead>\n",
       "  <tbody>\n",
       "    <tr>\n",
       "      <th>count</th>\n",
       "      <td>25.000000</td>\n",
       "      <td>25.000000</td>\n",
       "      <td>25.000000</td>\n",
       "    </tr>\n",
       "    <tr>\n",
       "      <th>mean</th>\n",
       "      <td>13.000000</td>\n",
       "      <td>17.960000</td>\n",
       "      <td>83.900000</td>\n",
       "    </tr>\n",
       "    <tr>\n",
       "      <th>std</th>\n",
       "      <td>7.359801</td>\n",
       "      <td>10.921996</td>\n",
       "      <td>21.984843</td>\n",
       "    </tr>\n",
       "    <tr>\n",
       "      <th>min</th>\n",
       "      <td>1.000000</td>\n",
       "      <td>5.000000</td>\n",
       "      <td>39.900000</td>\n",
       "    </tr>\n",
       "    <tr>\n",
       "      <th>25%</th>\n",
       "      <td>7.000000</td>\n",
       "      <td>10.000000</td>\n",
       "      <td>69.900000</td>\n",
       "    </tr>\n",
       "    <tr>\n",
       "      <th>50%</th>\n",
       "      <td>13.000000</td>\n",
       "      <td>15.000000</td>\n",
       "      <td>79.900000</td>\n",
       "    </tr>\n",
       "    <tr>\n",
       "      <th>75%</th>\n",
       "      <td>19.000000</td>\n",
       "      <td>20.000000</td>\n",
       "      <td>99.900000</td>\n",
       "    </tr>\n",
       "    <tr>\n",
       "      <th>max</th>\n",
       "      <td>25.000000</td>\n",
       "      <td>50.000000</td>\n",
       "      <td>119.900000</td>\n",
       "    </tr>\n",
       "  </tbody>\n",
       "</table>\n",
       "</div>"
      ],
      "text/plain": [
       "              ID  Quantidade de Vendas  Preço Unitário\n",
       "count  25.000000             25.000000       25.000000\n",
       "mean   13.000000             17.960000       83.900000\n",
       "std     7.359801             10.921996       21.984843\n",
       "min     1.000000              5.000000       39.900000\n",
       "25%     7.000000             10.000000       69.900000\n",
       "50%    13.000000             15.000000       79.900000\n",
       "75%    19.000000             20.000000       99.900000\n",
       "max    25.000000             50.000000      119.900000"
      ]
     },
     "execution_count": 37,
     "metadata": {},
     "output_type": "execute_result"
    }
   ],
   "source": [
    "# Estatísticas descritivas para as colunas numéricas\n",
    "\n",
    "df.describe() "
   ]
  },
  {
   "cell_type": "markdown",
   "metadata": {},
   "source": [
    "# Visualização de dados"
   ]
  },
  {
   "cell_type": "code",
   "execution_count": 38,
   "metadata": {},
   "outputs": [
    {
     "data": {
      "image/png": "[encoded data removed]",
      "text/plain": [
       "<Figure size 640x480 with 1 Axes>"
      ]
     },
     "metadata": {},
     "output_type": "display_data"
    }
   ],
   "source": [
    "# Gráfico de barras para contagem de categorias\n",
    "\n",
    "sns.countplot(x='Nome do Curso', data=df)\n",
    "plt.show()"
   ]
  },
  {
   "cell_type": "code",
   "execution_count": 39,
   "metadata": {},
   "outputs": [
    {
     "data": {
      "image/png": "[encoded data removed]",
      "text/plain": [
       "<Figure size 640x480 with 1 Axes>"
      ]
     },
     "metadata": {},
     "output_type": "display_data"
    }
   ],
   "source": [
    "# Gráfico de dispersão para relação entre variáveis\n",
    "sns.scatterplot(x='Quantidade de Vendas', y='Preço Unitário', data=df)\n",
    "plt.show()"
   ]
  },
  {
   "cell_type": "markdown",
   "metadata": {},
   "source": [
    "# Desafio Proposto"
   ]
  },
  {
   "cell_type": "code",
   "execution_count": 40,
   "metadata": {},
   "outputs": [
    {
     "name": "stdout",
     "output_type": "stream",
     "text": [
      "Receita Total: 32735.100000000002\n"
     ]
    }
   ],
   "source": [
    "# Calcular a receita total\n",
    "\n",
    "df['Receita'] = df['Quantidade de Vendas'] * df['Preço Unitário']\n",
    "receita_total = df['Receita'].sum()\n",
    "print(f'Receita Total: {receita_total}')"
   ]
  },
  {
   "cell_type": "code",
   "execution_count": 41,
   "metadata": {},
   "outputs": [
    {
     "name": "stdout",
     "output_type": "stream",
     "text": [
      "Curso com maior número de vendas: Introdução à Programação em Python\n"
     ]
    }
   ],
   "source": [
    "# Identificar o curso com o maior número de vendas\n",
    "\n",
    "curso_mais_vendido = df.groupby('Nome do Curso')['Quantidade de Vendas'].sum().idxmax()\n",
    "print(f'Curso com maior número de vendas: {curso_mais_vendido}')"
   ]
  },
  {
   "cell_type": "code",
   "execution_count": 42,
   "metadata": {},
   "outputs": [
    {
     "data": {
      "image/png": "[encoded data removed]",
      "text/plain": [
       "<Figure size 640x480 with 1 Axes>"
      ]
     },
     "metadata": {},
     "output_type": "display_data"
    }
   ],
   "source": [
    "# Visualizar a distribuição das vendas ao longo do tempo através de gráficos\n",
    "\n",
    "df['Data'] = pd.to_datetime(df['Data'])\n",
    "df.set_index('Data', inplace=True)\n",
    "df['Quantidade de Vendas'].plot()\n",
    "plt.show()"
   ]
  }
 ],
 "metadata": {
  "kernelspec": {
   "display_name": "venv",
   "language": "python",
   "name": "python3"
  },
  "language_info": {
   "codemirror_mode": {
    "name": "ipython",
    "version": 3
   },
   "file_extension": ".py",
   "mimetype": "text/x-python",
   "name": "python",
   "nbconvert_exporter": "python",
   "pygments_lexer": "ipython3",
   "version": "3.11.9"
  }
 },
 "nbformat": 4,
 "nbformat_minor": 2
}
